{
 "cells": [
  {
   "cell_type": "code",
   "execution_count": 9,
   "id": "4a1731a5-696a-4a2c-baa3-4355ef3f23a6",
   "metadata": {},
   "outputs": [
    {
     "data": {
      "text/html": [
       "<div>\n",
       "<style scoped>\n",
       "    .dataframe tbody tr th:only-of-type {\n",
       "        vertical-align: middle;\n",
       "    }\n",
       "\n",
       "    .dataframe tbody tr th {\n",
       "        vertical-align: top;\n",
       "    }\n",
       "\n",
       "    .dataframe thead th {\n",
       "        text-align: right;\n",
       "    }\n",
       "</style>\n",
       "<table border=\"1\" class=\"dataframe\">\n",
       "  <thead>\n",
       "    <tr style=\"text-align: right;\">\n",
       "      <th></th>\n",
       "      <th>customer_id</th>\n",
       "      <th>customer_name</th>\n",
       "      <th>country</th>\n",
       "      <th>city</th>\n",
       "    </tr>\n",
       "  </thead>\n",
       "  <tbody>\n",
       "    <tr>\n",
       "      <th>0</th>\n",
       "      <td>9780</td>\n",
       "      <td>Jessica Hart</td>\n",
       "      <td>Martinique</td>\n",
       "      <td>South William</td>\n",
       "    </tr>\n",
       "    <tr>\n",
       "      <th>1</th>\n",
       "      <td>9169</td>\n",
       "      <td>Amy Clark</td>\n",
       "      <td>Kazakhstan</td>\n",
       "      <td>Davisville</td>\n",
       "    </tr>\n",
       "    <tr>\n",
       "      <th>2</th>\n",
       "      <td>6631</td>\n",
       "      <td>Danielle Elliott</td>\n",
       "      <td>Armenia</td>\n",
       "      <td>East Danny</td>\n",
       "    </tr>\n",
       "    <tr>\n",
       "      <th>3</th>\n",
       "      <td>8772</td>\n",
       "      <td>Robin Mendoza</td>\n",
       "      <td>Uganda</td>\n",
       "      <td>Johnsonbury</td>\n",
       "    </tr>\n",
       "    <tr>\n",
       "      <th>4</th>\n",
       "      <td>8913</td>\n",
       "      <td>Abigail Miller</td>\n",
       "      <td>Namibia</td>\n",
       "      <td>Wrightchester</td>\n",
       "    </tr>\n",
       "  </tbody>\n",
       "</table>\n",
       "</div>"
      ],
      "text/plain": [
       "   customer_id     customer_name     country           city\n",
       "0         9780      Jessica Hart  Martinique  South William\n",
       "1         9169         Amy Clark  Kazakhstan     Davisville\n",
       "2         6631  Danielle Elliott     Armenia     East Danny\n",
       "3         8772     Robin Mendoza      Uganda    Johnsonbury\n",
       "4         8913    Abigail Miller     Namibia  Wrightchester"
      ]
     },
     "execution_count": 9,
     "metadata": {},
     "output_type": "execute_result"
    }
   ],
   "source": [
    "#Implementing Python scripts to read JSON data files for both customer data and transaction logs. \n",
    "#************FOR CUSTOMERS**************\n",
    "import pandas as pd  \n",
    "customer_data = pd.read_json('customers.json') \n",
    "customer_data.head()"
   ]
  },
  {
   "cell_type": "code",
   "execution_count": 10,
   "id": "5589127a-2584-45db-9fc1-9d7c59758be1",
   "metadata": {},
   "outputs": [
    {
     "name": "stdout",
     "output_type": "stream",
     "text": [
      "Index(['customer_id', 'customer_name', 'country', 'city'], dtype='object')\n"
     ]
    }
   ],
   "source": [
    "#viewing the column names from the customes.json datasets\n",
    "print(customer_data.columns)"
   ]
  },
  {
   "cell_type": "code",
   "execution_count": 11,
   "id": "5096c736-cd42-4f40-b3a6-4d8b9d2e5097",
   "metadata": {},
   "outputs": [
    {
     "name": "stdout",
     "output_type": "stream",
     "text": [
      "Index(['customer_id', 'customer_name', 'country', 'city'], dtype='object')\n"
     ]
    }
   ],
   "source": [
    "#Performing EDA to understand the structure, relationships, and patterns within the data. \n",
    "\n",
    "#1.ensuring that the empty cells are removed \n",
    "new_df = customer_data.dropna() \n",
    "print(customer_data.columns)"
   ]
  },
  {
   "cell_type": "code",
   "execution_count": 12,
   "id": "a49886da-af2c-402d-ac43-b3395dde0679",
   "metadata": {
    "scrolled": true
   },
   "outputs": [
    {
     "name": "stdout",
     "output_type": "stream",
     "text": [
      "0      False\n",
      "1      False\n",
      "2      False\n",
      "3      False\n",
      "4      False\n",
      "       ...  \n",
      "995    False\n",
      "996    False\n",
      "997    False\n",
      "998    False\n",
      "999    False\n",
      "Length: 1000, dtype: bool\n"
     ]
    }
   ],
   "source": [
    "#2. Display a boolean Series indicating whether each row in customer_data is a duplicate of a previous row \n",
    "print(customer_data.duplicated())"
   ]
  },
  {
   "cell_type": "code",
   "execution_count": 13,
   "id": "8c1e21a7-140d-4de8-ae1a-27f85ec0bd11",
   "metadata": {},
   "outputs": [
    {
     "name": "stdout",
     "output_type": "stream",
     "text": [
      "<class 'pandas.core.frame.DataFrame'>\n",
      "RangeIndex: 1000 entries, 0 to 999\n",
      "Data columns (total 4 columns):\n",
      " #   Column         Non-Null Count  Dtype \n",
      "---  ------         --------------  ----- \n",
      " 0   customer_id    1000 non-null   int64 \n",
      " 1   customer_name  1000 non-null   object\n",
      " 2   country        1000 non-null   object\n",
      " 3   city           1000 non-null   object\n",
      "dtypes: int64(1), object(3)\n",
      "memory usage: 31.4+ KB\n",
      "None\n"
     ]
    }
   ],
   "source": [
    "#3. Display basic information about the DataFrame, including column types, non-null counts, and memory usage\n",
    "print(customer_data.info())  "
   ]
  },
  {
   "cell_type": "code",
   "execution_count": 14,
   "id": "f3c2a14c-9c56-4b3c-b497-c75cc50ef65a",
   "metadata": {},
   "outputs": [
    {
     "name": "stdout",
     "output_type": "stream",
     "text": [
      "       customer_id\n",
      "count  1000.000000\n",
      "mean   5053.297000\n",
      "std    2792.627256\n",
      "min     102.000000\n",
      "25%    2662.000000\n",
      "50%    5156.000000\n",
      "75%    7395.000000\n",
      "max    9991.000000\n"
     ]
    }
   ],
   "source": [
    "#4. Generate and display summary statistics for numerical columns in the DataFrame\n",
    "print(customer_data.describe()) "
   ]
  },
  {
   "cell_type": "code",
   "execution_count": 16,
   "id": "689885d0-4545-4ebe-9331-18e2fc8875ee",
   "metadata": {},
   "outputs": [
    {
     "name": "stdout",
     "output_type": "stream",
     "text": [
      "      order_id  customer_id  product_id         product_name product_category  \\\n",
      "9995      9996         1496        9676  Range home & kitche   Home & Kitchen   \n",
      "9996      9997         7288        9927             Once toy             Toys   \n",
      "9997      9998         8381        3852          Human beaut           Beauty   \n",
      "9998      9999         5494        7324          Light beaut           Beauty   \n",
      "9999     10000         1490        6547      Source furnitur        Furniture   \n",
      "\n",
      "          payment_type  qty  price            datetime ecommerce_website_name  \\\n",
      "9995            Wallet   39  61151 2024-03-17 09:06:05            www.ebay.in   \n",
      "9996  Internet Banking   44  53963 2024-06-17 08:04:22          www.amazon.in   \n",
      "9997               UPI   48  26032 2023-02-05 04:20:30       www.tatacliq.com   \n",
      "9998               UPI   17  28277 2024-02-17 03:05:57           www.etsy.com   \n",
      "9999               UPI   34  91020 2023-01-11 03:02:53       www.flipkart.com   \n",
      "\n",
      "     payment_txn_id payment_txn_success      failure_reason  \n",
      "9995       03c982f7                   Y                      \n",
      "9996       46bd0811                   N        Blocked Card  \n",
      "9997       d115279c                   Y                      \n",
      "9998       6d1628b3                   N        Card Expired  \n",
      "9999       224381cd                   N  Insufficient Funds  \n"
     ]
    }
   ],
   "source": [
    "#*******************FOR TRANSACTION*********************\n",
    "# Loading JSON file into a DataFrame\n",
    "transaction_data = pd.read_json('transaction_logs.json')  \n",
    " # Displaying the last 5 rows of the DataFrame\n",
    "print(transaction_data.tail()) "
   ]
  },
  {
   "cell_type": "code",
   "execution_count": 17,
   "id": "e83a8254-dd30-459a-8e4e-ff4d5e5e16f0",
   "metadata": {},
   "outputs": [
    {
     "name": "stdout",
     "output_type": "stream",
     "text": [
      "Index(['order_id', 'customer_id', 'product_id', 'product_name',\n",
      "       'product_category', 'payment_type', 'qty', 'price', 'datetime',\n",
      "       'ecommerce_website_name', 'payment_txn_id', 'payment_txn_success',\n",
      "       'failure_reason'],\n",
      "      dtype='object')\n"
     ]
    }
   ],
   "source": [
    "#viewing the column names from the customes.json datasets\n",
    "print(transaction_data.columns)"
   ]
  },
  {
   "cell_type": "code",
   "execution_count": 18,
   "id": "435bc1a8-cb4e-4a7e-ac1c-2e985124e506",
   "metadata": {},
   "outputs": [
    {
     "name": "stdout",
     "output_type": "stream",
     "text": [
      "Index(['order_id', 'customer_id', 'product_id', 'product_name',\n",
      "       'product_category', 'payment_type', 'qty', 'price', 'datetime',\n",
      "       'ecommerce_website_name', 'payment_txn_id', 'payment_txn_success',\n",
      "       'failure_reason'],\n",
      "      dtype='object')\n"
     ]
    }
   ],
   "source": [
    "#Performing EDA to understand the structure, relationships, and patterns within the data. \n",
    "\n",
    "#1.ensuring that the empty cells are removed \n",
    "new_df = transaction_data.dropna() \n",
    "print(transaction_data.columns)"
   ]
  },
  {
   "cell_type": "code",
   "execution_count": 20,
   "id": "4ce4ba6e-4895-4771-9403-9ff7141b22cf",
   "metadata": {},
   "outputs": [
    {
     "name": "stdout",
     "output_type": "stream",
     "text": [
      "0       False\n",
      "1       False\n",
      "2       False\n",
      "3       False\n",
      "4       False\n",
      "        ...  \n",
      "9995    False\n",
      "9996    False\n",
      "9997    False\n",
      "9998    False\n",
      "9999    False\n",
      "Length: 10000, dtype: bool\n"
     ]
    }
   ],
   "source": [
    "#2. Display a boolean Series indicating whether each row in transaction_data is a duplicate of a previous row \n",
    "print(transaction_data.duplicated())"
   ]
  },
  {
   "cell_type": "code",
   "execution_count": 21,
   "id": "a7fcb4f3-0164-40a7-914c-04b9ec63b98e",
   "metadata": {},
   "outputs": [
    {
     "name": "stdout",
     "output_type": "stream",
     "text": [
      "<class 'pandas.core.frame.DataFrame'>\n",
      "RangeIndex: 10000 entries, 0 to 9999\n",
      "Data columns (total 13 columns):\n",
      " #   Column                  Non-Null Count  Dtype         \n",
      "---  ------                  --------------  -----         \n",
      " 0   order_id                10000 non-null  int64         \n",
      " 1   customer_id             10000 non-null  int64         \n",
      " 2   product_id              10000 non-null  int64         \n",
      " 3   product_name            10000 non-null  object        \n",
      " 4   product_category        10000 non-null  object        \n",
      " 5   payment_type            10000 non-null  object        \n",
      " 6   qty                     10000 non-null  int64         \n",
      " 7   price                   10000 non-null  int64         \n",
      " 8   datetime                10000 non-null  datetime64[ns]\n",
      " 9   ecommerce_website_name  10000 non-null  object        \n",
      " 10  payment_txn_id          10000 non-null  object        \n",
      " 11  payment_txn_success     10000 non-null  object        \n",
      " 12  failure_reason          10000 non-null  object        \n",
      "dtypes: datetime64[ns](1), int64(5), object(7)\n",
      "memory usage: 1015.8+ KB\n",
      "None\n"
     ]
    }
   ],
   "source": [
    "#3. Display basic information about the DataFrame, including column types, non-null counts, and memory usage\n",
    "print(transaction_data.info())  "
   ]
  },
  {
   "cell_type": "code",
   "execution_count": 22,
   "id": "b38574a2-e170-46fe-8bd2-d912f60bc856",
   "metadata": {},
   "outputs": [
    {
     "name": "stdout",
     "output_type": "stream",
     "text": [
      "          order_id   customer_id   product_id           qty         price  \\\n",
      "count  10000.00000  10000.000000  10000.00000  10000.000000  10000.000000   \n",
      "mean    5000.50000   5540.854400   5153.96520     25.524800  49682.003700   \n",
      "min        1.00000    109.000000    201.00000      1.000000     10.000000   \n",
      "25%     2500.75000   3141.500000   2709.75000     13.000000  24704.750000   \n",
      "50%     5000.50000   5989.000000   5195.00000     26.000000  49245.500000   \n",
      "75%     7500.25000   8341.500000   7599.00000     38.000000  74755.000000   \n",
      "max    10000.00000   9991.000000   9996.00000     50.000000  99989.000000   \n",
      "std     2886.89568   2776.686488   2828.45628     14.456946  28860.567215   \n",
      "\n",
      "                            datetime  \n",
      "count                          10000  \n",
      "mean   2023-01-25 09:32:06.897900288  \n",
      "min              2021-07-24 00:13:42  \n",
      "25%       2022-04-29 00:09:34.500000  \n",
      "50%              2023-01-22 13:19:27  \n",
      "75%              2023-10-28 13:48:13  \n",
      "max              2024-07-23 08:41:09  \n",
      "std                              NaN  \n"
     ]
    }
   ],
   "source": [
    "#4. Generate and display summary statistics for numerical columns in the DataFrame\n",
    "print(transaction_data.describe()) "
   ]
  },
  {
   "cell_type": "code",
   "execution_count": 58,
   "id": "88c22ae7-ceb6-4153-9078-d61834e151de",
   "metadata": {},
   "outputs": [],
   "source": [
    "#Database Connection\n",
    "import mysql.connector\n",
    "db = mysql.connector.connect(\n",
    " host = \"localhost\",\n",
    " user=\"root\",\n",
    " password = \"5808\",\n",
    " database = \"mydatabase\"\n",
    ") \n"
   ]
  },
  {
   "cell_type": "code",
   "execution_count": 59,
   "id": "238b6b4c-287a-47f2-8142-f8b8984fa518",
   "metadata": {},
   "outputs": [
    {
     "name": "stdout",
     "output_type": "stream",
     "text": [
      "('demos',)\n",
      "('information_schema',)\n",
      "('mydatabase',)\n",
      "('mysql',)\n",
      "('performance_schema',)\n",
      "('project_p0_revstore',)\n",
      "('project_revstore',)\n",
      "('projectp0',)\n",
      "('sys',)\n"
     ]
    }
   ],
   "source": [
    "#Viewing all the databases present\n",
    "cursor = db.cursor(buffered=2)\n",
    "cursor.execute(\"show databases\")\n",
    "result=cursor.fetchall()\n",
    "for row in result:\n",
    " print(row)"
   ]
  },
  {
   "cell_type": "code",
   "execution_count": 60,
   "id": "5da400bf-cbd9-48b7-8779-3d41d13a854b",
   "metadata": {},
   "outputs": [
    {
     "ename": "DatabaseError",
     "evalue": "1007 (HY000): Can't create database 'project_p0_revstore'; database exists",
     "output_type": "error",
     "traceback": [
      "\u001b[1;31m---------------------------------------------------------------------------\u001b[0m",
      "\u001b[1;31mMySQLInterfaceError\u001b[0m                       Traceback (most recent call last)",
      "File \u001b[1;32m~\\AppData\\Local\\Programs\\Python\\Python310\\lib\\site-packages\\mysql\\connector\\connection_cext.py:705\u001b[0m, in \u001b[0;36mCMySQLConnection.cmd_query\u001b[1;34m(self, query, raw, buffered, raw_as_string)\u001b[0m\n\u001b[0;32m    704\u001b[0m         query \u001b[38;5;241m=\u001b[39m query\u001b[38;5;241m.\u001b[39mencode(\u001b[38;5;124m\"\u001b[39m\u001b[38;5;124mutf-8\u001b[39m\u001b[38;5;124m\"\u001b[39m)\n\u001b[1;32m--> 705\u001b[0m     \u001b[38;5;28;43mself\u001b[39;49m\u001b[38;5;241;43m.\u001b[39;49m\u001b[43m_cmysql\u001b[49m\u001b[38;5;241;43m.\u001b[39;49m\u001b[43mquery\u001b[49m\u001b[43m(\u001b[49m\n\u001b[0;32m    706\u001b[0m \u001b[43m        \u001b[49m\u001b[43mquery\u001b[49m\u001b[43m,\u001b[49m\n\u001b[0;32m    707\u001b[0m \u001b[43m        \u001b[49m\u001b[43mraw\u001b[49m\u001b[38;5;241;43m=\u001b[39;49m\u001b[43mraw\u001b[49m\u001b[43m,\u001b[49m\n\u001b[0;32m    708\u001b[0m \u001b[43m        \u001b[49m\u001b[43mbuffered\u001b[49m\u001b[38;5;241;43m=\u001b[39;49m\u001b[43mbuffered\u001b[49m\u001b[43m,\u001b[49m\n\u001b[0;32m    709\u001b[0m \u001b[43m        \u001b[49m\u001b[43mraw_as_string\u001b[49m\u001b[38;5;241;43m=\u001b[39;49m\u001b[43mraw_as_string\u001b[49m\u001b[43m,\u001b[49m\n\u001b[0;32m    710\u001b[0m \u001b[43m        \u001b[49m\u001b[43mquery_attrs\u001b[49m\u001b[38;5;241;43m=\u001b[39;49m\u001b[38;5;28;43mself\u001b[39;49m\u001b[38;5;241;43m.\u001b[39;49m\u001b[43mquery_attrs\u001b[49m\u001b[43m,\u001b[49m\n\u001b[0;32m    711\u001b[0m \u001b[43m    \u001b[49m\u001b[43m)\u001b[49m\n\u001b[0;32m    712\u001b[0m \u001b[38;5;28;01mexcept\u001b[39;00m MySQLInterfaceError \u001b[38;5;28;01mas\u001b[39;00m err:\n",
      "\u001b[1;31mMySQLInterfaceError\u001b[0m: Can't create database 'project_p0_revstore'; database exists",
      "\nThe above exception was the direct cause of the following exception:\n",
      "\u001b[1;31mDatabaseError\u001b[0m                             Traceback (most recent call last)",
      "Cell \u001b[1;32mIn[60], line 2\u001b[0m\n\u001b[0;32m      1\u001b[0m \u001b[38;5;66;03m#creating a new database\u001b[39;00m\n\u001b[1;32m----> 2\u001b[0m \u001b[43mcursor\u001b[49m\u001b[38;5;241;43m.\u001b[39;49m\u001b[43mexecute\u001b[49m\u001b[43m(\u001b[49m\u001b[38;5;124;43m\"\u001b[39;49m\u001b[38;5;124;43mcreate database Project_P0_revstore\u001b[39;49m\u001b[38;5;124;43m\"\u001b[39;49m\u001b[43m)\u001b[49m\n\u001b[0;32m      3\u001b[0m result\u001b[38;5;241m=\u001b[39mcursor\u001b[38;5;241m.\u001b[39mfetchall()\n\u001b[0;32m      4\u001b[0m \u001b[38;5;28;01mfor\u001b[39;00m row \u001b[38;5;129;01min\u001b[39;00m result:\n",
      "File \u001b[1;32m~\\AppData\\Local\\Programs\\Python\\Python310\\lib\\site-packages\\mysql\\connector\\cursor_cext.py:357\u001b[0m, in \u001b[0;36mCMySQLCursor.execute\u001b[1;34m(self, operation, params, multi)\u001b[0m\n\u001b[0;32m    352\u001b[0m             \u001b[38;5;28;01mraise\u001b[39;00m ProgrammingError(\n\u001b[0;32m    353\u001b[0m                 \u001b[38;5;124m\"\u001b[39m\u001b[38;5;124mNot all parameters were used in the SQL statement\u001b[39m\u001b[38;5;124m\"\u001b[39m\n\u001b[0;32m    354\u001b[0m             )\n\u001b[0;32m    356\u001b[0m \u001b[38;5;28;01mtry\u001b[39;00m:\n\u001b[1;32m--> 357\u001b[0m     result \u001b[38;5;241m=\u001b[39m \u001b[38;5;28;43mself\u001b[39;49m\u001b[38;5;241;43m.\u001b[39;49m\u001b[43m_connection\u001b[49m\u001b[38;5;241;43m.\u001b[39;49m\u001b[43mcmd_query\u001b[49m\u001b[43m(\u001b[49m\n\u001b[0;32m    358\u001b[0m \u001b[43m        \u001b[49m\u001b[43mstmt\u001b[49m\u001b[43m,\u001b[49m\n\u001b[0;32m    359\u001b[0m \u001b[43m        \u001b[49m\u001b[43mraw\u001b[49m\u001b[38;5;241;43m=\u001b[39;49m\u001b[38;5;28;43mself\u001b[39;49m\u001b[38;5;241;43m.\u001b[39;49m\u001b[43m_raw\u001b[49m\u001b[43m,\u001b[49m\n\u001b[0;32m    360\u001b[0m \u001b[43m        \u001b[49m\u001b[43mbuffered\u001b[49m\u001b[38;5;241;43m=\u001b[39;49m\u001b[38;5;28;43mself\u001b[39;49m\u001b[38;5;241;43m.\u001b[39;49m\u001b[43m_buffered\u001b[49m\u001b[43m,\u001b[49m\n\u001b[0;32m    361\u001b[0m \u001b[43m        \u001b[49m\u001b[43mraw_as_string\u001b[49m\u001b[38;5;241;43m=\u001b[39;49m\u001b[38;5;28;43mself\u001b[39;49m\u001b[38;5;241;43m.\u001b[39;49m\u001b[43m_raw_as_string\u001b[49m\u001b[43m,\u001b[49m\n\u001b[0;32m    362\u001b[0m \u001b[43m    \u001b[49m\u001b[43m)\u001b[49m\n\u001b[0;32m    363\u001b[0m \u001b[38;5;28;01mexcept\u001b[39;00m MySQLInterfaceError \u001b[38;5;28;01mas\u001b[39;00m err:\n\u001b[0;32m    364\u001b[0m     \u001b[38;5;28;01mraise\u001b[39;00m get_mysql_exception(\n\u001b[0;32m    365\u001b[0m         msg\u001b[38;5;241m=\u001b[39merr\u001b[38;5;241m.\u001b[39mmsg, errno\u001b[38;5;241m=\u001b[39merr\u001b[38;5;241m.\u001b[39merrno, sqlstate\u001b[38;5;241m=\u001b[39merr\u001b[38;5;241m.\u001b[39msqlstate\n\u001b[0;32m    366\u001b[0m     ) \u001b[38;5;28;01mfrom\u001b[39;00m \u001b[38;5;21;01merr\u001b[39;00m\n",
      "File \u001b[1;32m~\\AppData\\Local\\Programs\\Python\\Python310\\lib\\site-packages\\mysql\\connector\\opentelemetry\\context_propagation.py:97\u001b[0m, in \u001b[0;36mwith_context_propagation.<locals>.wrapper\u001b[1;34m(cnx, *args, **kwargs)\u001b[0m\n\u001b[0;32m     95\u001b[0m \u001b[38;5;66;03m# pylint: disable=possibly-used-before-assignment\u001b[39;00m\n\u001b[0;32m     96\u001b[0m \u001b[38;5;28;01mif\u001b[39;00m \u001b[38;5;129;01mnot\u001b[39;00m OTEL_ENABLED \u001b[38;5;129;01mor\u001b[39;00m \u001b[38;5;129;01mnot\u001b[39;00m cnx\u001b[38;5;241m.\u001b[39motel_context_propagation:\n\u001b[1;32m---> 97\u001b[0m     \u001b[38;5;28;01mreturn\u001b[39;00m method(cnx, \u001b[38;5;241m*\u001b[39margs, \u001b[38;5;241m*\u001b[39m\u001b[38;5;241m*\u001b[39mkwargs)\n\u001b[0;32m     99\u001b[0m current_span \u001b[38;5;241m=\u001b[39m trace\u001b[38;5;241m.\u001b[39mget_current_span()\n\u001b[0;32m    100\u001b[0m tp_header \u001b[38;5;241m=\u001b[39m \u001b[38;5;28;01mNone\u001b[39;00m\n",
      "File \u001b[1;32m~\\AppData\\Local\\Programs\\Python\\Python310\\lib\\site-packages\\mysql\\connector\\connection_cext.py:713\u001b[0m, in \u001b[0;36mCMySQLConnection.cmd_query\u001b[1;34m(self, query, raw, buffered, raw_as_string)\u001b[0m\n\u001b[0;32m    705\u001b[0m     \u001b[38;5;28mself\u001b[39m\u001b[38;5;241m.\u001b[39m_cmysql\u001b[38;5;241m.\u001b[39mquery(\n\u001b[0;32m    706\u001b[0m         query,\n\u001b[0;32m    707\u001b[0m         raw\u001b[38;5;241m=\u001b[39mraw,\n\u001b[1;32m   (...)\u001b[0m\n\u001b[0;32m    710\u001b[0m         query_attrs\u001b[38;5;241m=\u001b[39m\u001b[38;5;28mself\u001b[39m\u001b[38;5;241m.\u001b[39mquery_attrs,\n\u001b[0;32m    711\u001b[0m     )\n\u001b[0;32m    712\u001b[0m \u001b[38;5;28;01mexcept\u001b[39;00m MySQLInterfaceError \u001b[38;5;28;01mas\u001b[39;00m err:\n\u001b[1;32m--> 713\u001b[0m     \u001b[38;5;28;01mraise\u001b[39;00m get_mysql_exception(\n\u001b[0;32m    714\u001b[0m         err\u001b[38;5;241m.\u001b[39merrno, msg\u001b[38;5;241m=\u001b[39merr\u001b[38;5;241m.\u001b[39mmsg, sqlstate\u001b[38;5;241m=\u001b[39merr\u001b[38;5;241m.\u001b[39msqlstate\n\u001b[0;32m    715\u001b[0m     ) \u001b[38;5;28;01mfrom\u001b[39;00m \u001b[38;5;21;01merr\u001b[39;00m\n\u001b[0;32m    716\u001b[0m \u001b[38;5;28;01mexcept\u001b[39;00m \u001b[38;5;167;01mAttributeError\u001b[39;00m \u001b[38;5;28;01mas\u001b[39;00m err:\n\u001b[0;32m    717\u001b[0m     addr \u001b[38;5;241m=\u001b[39m (\n\u001b[0;32m    718\u001b[0m         \u001b[38;5;28mself\u001b[39m\u001b[38;5;241m.\u001b[39m_unix_socket \u001b[38;5;28;01mif\u001b[39;00m \u001b[38;5;28mself\u001b[39m\u001b[38;5;241m.\u001b[39m_unix_socket \u001b[38;5;28;01melse\u001b[39;00m \u001b[38;5;124mf\u001b[39m\u001b[38;5;124m\"\u001b[39m\u001b[38;5;132;01m{\u001b[39;00m\u001b[38;5;28mself\u001b[39m\u001b[38;5;241m.\u001b[39m_host\u001b[38;5;132;01m}\u001b[39;00m\u001b[38;5;124m:\u001b[39m\u001b[38;5;132;01m{\u001b[39;00m\u001b[38;5;28mself\u001b[39m\u001b[38;5;241m.\u001b[39m_port\u001b[38;5;132;01m}\u001b[39;00m\u001b[38;5;124m\"\u001b[39m\n\u001b[0;32m    719\u001b[0m     )\n",
      "\u001b[1;31mDatabaseError\u001b[0m: 1007 (HY000): Can't create database 'project_p0_revstore'; database exists"
     ]
    }
   ],
   "source": [
    "#creating a new database\n",
    "cursor.execute(\"create database Project_P0_revstore\")\n",
    "result=cursor.fetchall()\n",
    "for row in result:\n",
    " print(row)"
   ]
  },
  {
   "cell_type": "code",
   "execution_count": 61,
   "id": "06e16bfa-33f7-4283-be2a-3dc2983b1d38",
   "metadata": {},
   "outputs": [],
   "source": [
    "#using the database\n",
    "cursor.execute(\"use Project_P0_revstore\")"
   ]
  },
  {
   "cell_type": "code",
   "execution_count": 34,
   "id": "2931a21b-c8cd-4642-9128-b5e0e6158029",
   "metadata": {},
   "outputs": [],
   "source": [
    "#Designing a normalized database schema based on the insights gained from EDA. \n",
    "#Ensuring that the schema adheres to database normalization principles to avoid redundancy and ensure data integrity. \n",
    "cursor.execute(\n",
    " '''CREATE TABLE Customers (\n",
    " customer_id INT PRIMARY KEY,\n",
    " customer_name VARCHAR(255) NOT NULL,\n",
    " country VARCHAR(100),\n",
    " city VARCHAR(100)\n",
    ");''')\n",
    "\n",
    "\n",
    "cursor.execute(\n",
    " '''CREATE TABLE Products (\n",
    " product_id INT PRIMARY KEY,\n",
    " product_name VARCHAR(255) NOT NULL,\n",
    " product_category VARCHAR(100)\n",
    ");''')\n",
    "\n",
    "cursor.execute(\n",
    " '''CREATE TABLE Orders (\n",
    " order_id INT PRIMARY KEY,\n",
    " customer_id INT,\n",
    " product_id INT,\n",
    " qty INT NOT NULL,\n",
    " price DECIMAL(10, 2) NOT NULL,\n",
    " datetime DATETIME NOT NULL,\n",
    " ecommerce_website_name VARCHAR(255),\n",
    " FOREIGN KEY (customer_id) REFERENCES Customers(customer_id),\n",
    " FOREIGN KEY (product_id) REFERENCES Products(product_id)\n",
    ");\n",
    "''')\n",
    "\n",
    "cursor.execute('''\n",
    "CREATE TABLE Payments (\n",
    " payment_id INT PRIMARY KEY AUTO_INCREMENT,\n",
    " order_id INT,\n",
    " payment_type VARCHAR(50),\n",
    " payment_txn_id VARCHAR(100),\n",
    " payment_txn_success BOOLEAN,\n",
    " failure_reason TEXT,\n",
    " FOREIGN KEY (order_id) REFERENCES Orders(order_id)\n",
    "); ''')"
   ]
  },
  {
   "cell_type": "code",
   "execution_count": 62,
   "id": "f0a4618f-a6b7-4244-93db-904af326b0d8",
   "metadata": {},
   "outputs": [
    {
     "name": "stdout",
     "output_type": "stream",
     "text": [
      "('customers',)\n",
      "('orders',)\n",
      "('payments',)\n",
      "('products',)\n"
     ]
    }
   ],
   "source": [
    "#displaying all the tables\n",
    "cursor.execute(\"show tables\")\n",
    "result=cursor.fetchall()\n",
    "for row in result:\n",
    " print(row)"
   ]
  },
  {
   "cell_type": "code",
   "execution_count": 36,
   "id": "4ae8f33e-5604-4ff8-85ed-4c3e8de1e640",
   "metadata": {},
   "outputs": [],
   "source": [
    "import pandas as pd\n",
    "#1. Firstly, loading the JSON data using pandas:\n",
    "# Load JSON data\n",
    "customers_df = pd.read_json('customers.json')\n",
    "transaction_logs_df = pd.read_json('transaction_logs.json')\n"
   ]
  },
  {
   "cell_type": "code",
   "execution_count": 38,
   "id": "a4497a2f-456e-482d-952e-24fcc265e885",
   "metadata": {},
   "outputs": [],
   "source": [
    "#2. Transform and clean the data as needed. Make sure the columns match the schema\n",
    "# Convert datetime column to correct format\n",
    "transaction_logs_df['datetime'] = pd.to_datetime(transaction_logs_df['datetime'])\n",
    "transaction_logs_df['payment_txn_success'] = transaction_logs_df['payment_txn_success'].astype(bool)\n"
   ]
  },
  {
   "cell_type": "code",
   "execution_count": 47,
   "id": "988624c0-d616-4f9c-bc92-276bb91da416",
   "metadata": {
    "scrolled": true
   },
   "outputs": [
    {
     "name": "stdout",
     "output_type": "stream",
     "text": [
      "Data inserted successfully.\n"
     ]
    }
   ],
   "source": [
    "import pandas as pd\n",
    "import mysql.connector\n",
    "import time\n",
    "\n",
    "# Load JSON data\n",
    "customers_df = pd.read_json('customers.json')\n",
    "transaction_logs_df = pd.read_json('transaction_logs.json')\n",
    "\n",
    "# Convert datetime column to correct format\n",
    "transaction_logs_df['datetime'] = pd.to_datetime(transaction_logs_df['datetime'])\n",
    "transaction_logs_df['payment_txn_success'] = transaction_logs_df['payment_txn_success'].astype(bool)\n",
    "\n",
    "MAX_RETRIES = 5\n",
    "RETRY_DELAY = 2  # seconds\n",
    "\n",
    "for attempt in range(MAX_RETRIES):\n",
    "    try:\n",
    "        # Connect to MySQL\n",
    "        conn = mysql.connector.connect(\n",
    "            host='localhost',\n",
    "            user='root',  # Replace with your MySQL username\n",
    "            password='5808',  # Replace with your MySQL password\n",
    "            database='Project_p0_revstore'  # Replace with your MySQL database name\n",
    "        )\n",
    "        cursor = conn.cursor()\n",
    "\n",
    "        # Insert data into Customers table\n",
    "        for index, row in customers_df.iterrows():\n",
    "            cursor.execute(\"\"\"\n",
    "                INSERT INTO Customers (customer_id, customer_name, country, city)\n",
    "                VALUES (%s, %s, %s, %s)\n",
    "                ON DUPLICATE KEY UPDATE\n",
    "                customer_name = VALUES(customer_name),\n",
    "                country = VALUES(country),\n",
    "                city = VALUES(city)\n",
    "            \"\"\", (row['customer_id'], row['customer_name'], row['country'], row['city']))\n",
    "\n",
    "        # Insert data into Products table\n",
    "        products_df = transaction_logs_df[['product_id', 'product_name', 'product_category']].drop_duplicates()\n",
    "\n",
    "        for index, row in products_df.iterrows():\n",
    "            cursor.execute(\"\"\"\n",
    "                INSERT INTO Products (product_id, product_name, product_category)\n",
    "                VALUES (%s, %s, %s)\n",
    "                ON DUPLICATE KEY UPDATE\n",
    "                product_name = VALUES(product_name),\n",
    "                product_category = VALUES(product_category)\n",
    "            \"\"\", (row['product_id'], row['product_name'], row['product_category']))\n",
    "\n",
    "        # Insert data into Orders table\n",
    "        for index, row in transaction_logs_df.iterrows():\n",
    "            cursor.execute(\"\"\"\n",
    "                INSERT INTO Orders (order_id, customer_id, product_id, qty, price, datetime, ecommerce_website_name)\n",
    "                VALUES (%s, %s, %s, %s, %s, %s, %s)\n",
    "            \"\"\", (row['order_id'], row['customer_id'], row['product_id'], row['qty'], row['price'], row['datetime'], row['ecommerce_website_name']))\n",
    "\n",
    "        # Insert data into Payments table\n",
    "        for index, row in transaction_logs_df.iterrows():\n",
    "            cursor.execute(\"\"\"\n",
    "                INSERT INTO Payments (order_id, payment_type, payment_txn_id, payment_txn_success, failure_reason)\n",
    "                VALUES (%s, %s, %s, %s, %s)\n",
    "            \"\"\", (row['order_id'], row['payment_type'], row['payment_txn_id'], row['payment_txn_success'], row['failure_reason']))\n",
    "\n",
    "        # Commit the transaction\n",
    "        conn.commit()\n",
    "        print(\"Data inserted successfully.\")\n",
    "        break  # Exit loop if successful\n",
    "\n",
    "    except mysql.connector.Error as err:\n",
    "        print(f\"Error: {err}\")\n",
    "        if err.errno == 1045:  # Access denied\n",
    "            print(\"Access denied for user. Please check credentials.\")\n",
    "            break  # Stop retrying\n",
    "        elif err.errno == 1205:  # Lock wait timeout\n",
    "            print(f\"Lock wait timeout exceeded. Retrying ({attempt + 1}/{MAX_RETRIES})...\")\n",
    "        elif err.errno == 2006:  # MySQL server has gone away\n",
    "            print(\"MySQL server has gone away. Reconnecting...\")\n",
    "        elif err.errno == 2055:  # Cursor is not connected\n",
    "            print(\"Cursor is not connected. Reconnecting...\")\n",
    "        time.sleep(RETRY_DELAY)\n",
    "        if 'conn' in locals() and conn.is_connected():\n",
    "            conn.rollback()  # Rollback the transaction\n",
    "            cursor.close()\n",
    "            conn.close()\n",
    "    finally:\n",
    "        # Ensure resources are cleaned up\n",
    "        if 'conn' in locals() and conn.is_connected():\n",
    "            cursor.close()\n",
    "            conn.close()\n"
   ]
  },
  {
   "cell_type": "code",
   "execution_count": 63,
   "id": "f6b6fe56-84ae-4a55-892d-66511a9e176d",
   "metadata": {},
   "outputs": [],
   "source": [
    "import mysql.connector\n",
    "import pandas as pd\n",
    "\n",
    "# Define connection parameters\n",
    "conn_params = {\n",
    "    'host': 'localhost',\n",
    "    'user': 'root',  # Replace with your MySQL username\n",
    "    'password': '5808',  # Replace with your MySQL password\n",
    "    'database': 'Project_P0_revstore'  # Replace with your MySQL database name\n",
    "}\n",
    "\n",
    "def execute_query(query):\n",
    "    try:\n",
    "        # Connect to MySQL\n",
    "        conn = mysql.connector.connect(**conn_params)\n",
    "        cursor = conn.cursor(dictionary=True)  # Use dictionary cursor for easy access\n",
    "        cursor.execute(query)\n",
    "        records = cursor.fetchall()\n",
    "        df = pd.DataFrame(records)\n",
    "        return df\n",
    "    except mysql.connector.Error as err:\n",
    "        print(f\"Error: {err}\")\n",
    "        return None\n",
    "    finally:\n",
    "        # Ensure resources are cleaned up\n",
    "        cursor.close()\n",
    "        conn.close()\n"
   ]
  },
  {
   "cell_type": "code",
   "execution_count": 65,
   "id": "1d07d501-3413-4bb0-8556-e13e90f88dc2",
   "metadata": {},
   "outputs": [
    {
     "name": "stdout",
     "output_type": "stream",
     "text": [
      "Customers table record count: 1000\n"
     ]
    }
   ],
   "source": [
    "#1. Testing Customers Table Record Count\n",
    "query = \"SELECT COUNT(*) AS count FROM Customers\"\n",
    "df = execute_query(query)\n",
    "if df is not None:\n",
    "    actual_count = df.iloc[0]['count']\n",
    "    print(f\"Customers table record count: {actual_count}\")"
   ]
  },
  {
   "cell_type": "code",
   "execution_count": 66,
   "id": "86078367-a164-44b7-9caa-c29ef56e5d46",
   "metadata": {},
   "outputs": [
    {
     "name": "stdout",
     "output_type": "stream",
     "text": [
      "Products table record count: 6281\n"
     ]
    }
   ],
   "source": [
    "#2. Testing Products Table Record Count\n",
    "query = \"SELECT COUNT(*) AS count FROM Products\"\n",
    "df = execute_query(query)\n",
    "if df is not None:\n",
    "    actual_count = df.iloc[0]['count']\n",
    "    print(f\"Products table record count: {actual_count}\")\n"
   ]
  },
  {
   "cell_type": "code",
   "execution_count": 67,
   "id": "f06d5924-687d-413b-81ea-603ed69d5c02",
   "metadata": {},
   "outputs": [
    {
     "name": "stdout",
     "output_type": "stream",
     "text": [
      "Orders table record count: 10000\n"
     ]
    }
   ],
   "source": [
    "#3. Testing Orders Table Record Count\n",
    "query = \"SELECT COUNT(*) AS count FROM Orders\"\n",
    "df = execute_query(query)\n",
    "if df is not None:\n",
    "    actual_count = df.iloc[0]['count']\n",
    "    print(f\"Orders table record count: {actual_count}\")\n"
   ]
  },
  {
   "cell_type": "code",
   "execution_count": 68,
   "id": "a45d715d-bfe5-4bc6-9888-57ed02e3a101",
   "metadata": {},
   "outputs": [
    {
     "name": "stdout",
     "output_type": "stream",
     "text": [
      "Payments table record count: 10000\n"
     ]
    }
   ],
   "source": [
    "#4. Testing Payments Table Record Count\n",
    "query = \"SELECT COUNT(*) AS count FROM Payments\"\n",
    "df = execute_query(query)\n",
    "if df is not None:\n",
    "    actual_count = df.iloc[0]['count']\n",
    "    print(f\"Payments table record count: {actual_count}\")\n"
   ]
  },
  {
   "cell_type": "code",
   "execution_count": 69,
   "id": "0097e1c8-95b3-4942-ad4f-21db2190487d",
   "metadata": {},
   "outputs": [
    {
     "name": "stdout",
     "output_type": "stream",
     "text": [
      "Specific customer data found:\n",
      "   customer_id    customer_name country      city\n",
      "0         1731  Angie Dodson MD  Belize  Smithton\n"
     ]
    }
   ],
   "source": [
    "#5. Testing Specific Customer Data\n",
    "query = \"SELECT * FROM Customers WHERE customer_id = 1731\"\n",
    "df = execute_query(query)\n",
    "if df is not None:\n",
    "    if not df.empty:\n",
    "        print(\"Specific customer data found:\")\n",
    "        print(df)\n",
    "    else:\n",
    "        print(\"No record found.\")\n"
   ]
  },
  {
   "cell_type": "code",
   "execution_count": 70,
   "id": "f1e977f0-c790-40df-b50a-f5d71ebdbc0a",
   "metadata": {},
   "outputs": [
    {
     "name": "stdout",
     "output_type": "stream",
     "text": [
      "Specific product data found:\n",
      "   product_id product_name product_category\n",
      "0        2409   Upon sport           Sports\n"
     ]
    }
   ],
   "source": [
    "#6. Testing Specific Product Data\n",
    "query = \"SELECT * FROM Products WHERE product_id = 2409\"\n",
    "df = execute_query(query)\n",
    "if df is not None:\n",
    "    if not df.empty:\n",
    "        print(\"Specific product data found:\")\n",
    "        print(df)\n",
    "    else:\n",
    "        print(\"No record found.\")\n"
   ]
  },
  {
   "cell_type": "code",
   "execution_count": 72,
   "id": "bf1af833-ba9c-4c5c-b7a9-cf5686a7bcf2",
   "metadata": {},
   "outputs": [
    {
     "name": "stdout",
     "output_type": "stream",
     "text": [
      "Specific order data found:\n",
      "   order_id  customer_id  product_id  qty     price            datetime  \\\n",
      "0         1         1731        8609   25  64216.00 2021-07-26 20:16:14   \n",
      "\n",
      "  ecommerce_website_name  \n",
      "0        www.bestbuy.com  \n"
     ]
    }
   ],
   "source": [
    "#7. Testing Specific Orders Data\n",
    "query = \"SELECT * FROM orders WHERE order_id = 1\"\n",
    "df = execute_query(query)\n",
    "if df is not None:\n",
    "    if not df.empty:\n",
    "        print(\"Specific order data found:\")\n",
    "        print(df)\n",
    "    else:\n",
    "        print(\"No record found.\")\n"
   ]
  },
  {
   "cell_type": "code",
   "execution_count": 73,
   "id": "5b734dc9-3e08-4da7-a5fc-66f7b7d6c8da",
   "metadata": {},
   "outputs": [
    {
     "name": "stdout",
     "output_type": "stream",
     "text": [
      "Specific data found:\n",
      "   payment_id  order_id payment_type payment_txn_id  payment_txn_success  \\\n",
      "0           1         1       Wallet       a395e8c7                    1   \n",
      "\n",
      "  failure_reason  \n",
      "0   Card Expired  \n"
     ]
    }
   ],
   "source": [
    "#8. Testing Specific Payments Data\n",
    "query = \"SELECT * FROM payments WHERE order_id = 1\"\n",
    "df = execute_query(query)\n",
    "if df is not None:\n",
    "    if not df.empty:\n",
    "        print(\"Specific data found:\")\n",
    "        print(df)\n",
    "    else:\n",
    "        print(\"No record found.\")\n"
   ]
  },
  {
   "cell_type": "code",
   "execution_count": 74,
   "id": "c405ea12-6885-4a51-aa3f-785f3846c5be",
   "metadata": {},
   "outputs": [
    {
     "name": "stdout",
     "output_type": "stream",
     "text": [
      "Foreign key constraints are correct.\n"
     ]
    }
   ],
   "source": [
    "#9. Testing Orders with Missing Customers\n",
    "query = \"\"\"\n",
    "SELECT * FROM Orders o\n",
    "LEFT JOIN Customers c ON o.customer_id = c.customer_id\n",
    "WHERE c.customer_id IS NULL\n",
    "\"\"\"\n",
    "df = execute_query(query)\n",
    "if df is not None:\n",
    "    if df.empty:\n",
    "        print(\"Foreign key constraints are correct.\")\n",
    "    else:\n",
    "        print(\"Foreign key constraints issue found:\")\n",
    "        print(df)"
   ]
  },
  {
   "cell_type": "code",
   "execution_count": 75,
   "id": "d2c281d1-bef2-4461-a253-e569cf49714c",
   "metadata": {},
   "outputs": [
    {
     "name": "stdout",
     "output_type": "stream",
     "text": [
      "Foreign key constraints are correct.\n"
     ]
    }
   ],
   "source": [
    "#10. Testing Orders with Missing Products\n",
    "query = \"\"\"\n",
    "SELECT * FROM Orders o\n",
    "LEFT JOIN Products p ON o.product_id = p.product_id\n",
    "WHERE p.product_id IS NULL\n",
    "\"\"\"\n",
    "df = execute_query(query)\n",
    "if df is not None:\n",
    "    if df.empty:\n",
    "        print(\"Foreign key constraints are correct.\")\n",
    "    else:\n",
    "        print(\"Foreign key constraints issue found:\")\n",
    "        print(df)\n"
   ]
  },
  {
   "cell_type": "code",
   "execution_count": 76,
   "id": "4dd99ddb-cb50-4b0a-a8e6-b5f1645105ea",
   "metadata": {},
   "outputs": [
    {
     "name": "stdout",
     "output_type": "stream",
     "text": [
      "No duplicate records found in Products table.\n"
     ]
    }
   ],
   "source": [
    "#11. Testing Duplicate Products\n",
    "query = \"\"\"\n",
    "SELECT product_id, COUNT(*) as count\n",
    "FROM Products\n",
    "GROUP BY product_id\n",
    "HAVING count > 1\n",
    "\"\"\"\n",
    "df = execute_query(query)\n",
    "if df is not None:\n",
    "    if df.empty:\n",
    "        print(\"No duplicate records found in Products table.\")\n",
    "    else:\n",
    "        print(\"Duplicate records found in Products table:\")\n",
    "        print(df)\n"
   ]
  },
  {
   "cell_type": "code",
   "execution_count": 78,
   "id": "d3bced82-aaa1-4a94-866b-d0ec2824a538",
   "metadata": {},
   "outputs": [
    {
     "name": "stdout",
     "output_type": "stream",
     "text": [
      "No duplicate records found in Orders table.\n"
     ]
    }
   ],
   "source": [
    "#12. Testing Duplicate Orders\n",
    "query = \"\"\"\n",
    "SELECT order_id, COUNT(*) as count\n",
    "FROM Orders\n",
    "GROUP BY order_id\n",
    "HAVING count > 1\n",
    "\"\"\"\n",
    "df = execute_query(query)\n",
    "if df is not None:\n",
    "    if df.empty:\n",
    "        print(\"No duplicate records found in Orders table.\")\n",
    "    else:\n",
    "        print(\"Duplicate records found in Orders table:\")\n",
    "        print(df)\n"
   ]
  },
  {
   "cell_type": "code",
   "execution_count": null,
   "id": "9a66f71a-85fd-4c88-99af-63f9c8edadc7",
   "metadata": {},
   "outputs": [],
   "source": []
  }
 ],
 "metadata": {
  "kernelspec": {
   "display_name": "Python 3 (ipykernel)",
   "language": "python",
   "name": "python3"
  },
  "language_info": {
   "codemirror_mode": {
    "name": "ipython",
    "version": 3
   },
   "file_extension": ".py",
   "mimetype": "text/x-python",
   "name": "python",
   "nbconvert_exporter": "python",
   "pygments_lexer": "ipython3",
   "version": "3.10.1"
  }
 },
 "nbformat": 4,
 "nbformat_minor": 5
}
